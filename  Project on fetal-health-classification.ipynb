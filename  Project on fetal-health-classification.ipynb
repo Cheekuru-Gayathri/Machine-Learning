{
 "cells": [
  {
   "cell_type": "code",
   "execution_count": 1,
   "id": "e1ff19b6",
   "metadata": {
    "execution": {
     "iopub.execute_input": "2023-11-13T14:16:03.798420Z",
     "iopub.status.busy": "2023-11-13T14:16:03.797983Z",
     "iopub.status.idle": "2023-11-13T14:16:07.244455Z",
     "shell.execute_reply": "2023-11-13T14:16:07.243289Z"
    },
    "papermill": {
     "duration": 3.464698,
     "end_time": "2023-11-13T14:16:07.247676",
     "exception": false,
     "start_time": "2023-11-13T14:16:03.782978",
     "status": "completed"
    },
    "tags": []
   },
   "outputs": [],
   "source": [
    "# import library\n",
    "import numpy as np \n",
    "import pandas as pd\n",
    "from scipy import stats\n",
    "from sklearn import preprocessing\n",
    "import matplotlib.pyplot as plt\n",
    "import seaborn as sns\n",
    "from sklearn.impute import KNNImputer\n",
    "from sklearn.preprocessing import MinMaxScaler\n",
    "from sklearn.naive_bayes import MultinomialNB\n",
    "from sklearn.linear_model import LogisticRegression\n",
    "from sklearn.tree import DecisionTreeClassifier\n",
    "from sklearn.ensemble import RandomForestClassifier\n",
    "from sklearn.neighbors import KNeighborsClassifier\n",
    "from sklearn.svm import SVC\n",
    "from sklearn.ensemble import GradientBoostingClassifier\n",
    "from sklearn.model_selection import train_test_split\n",
    "from sklearn.metrics import confusion_matrix, accuracy_score, precision_score, recall_score, f1_score"
   ]
  },
  {
   "cell_type": "markdown",
   "id": "87aa679b",
   "metadata": {
    "papermill": {
     "duration": 0.012198,
     "end_time": "2023-11-13T14:16:07.272844",
     "exception": false,
     "start_time": "2023-11-13T14:16:07.260646",
     "status": "completed"
    },
    "tags": []
   },
   "source": [
    "## Load & understand data"
   ]
  },
  {
   "cell_type": "code",
   "execution_count": 4,
   "id": "dabfad42",
   "metadata": {
    "execution": {
     "iopub.execute_input": "2023-11-13T14:16:07.300931Z",
     "iopub.status.busy": "2023-11-13T14:16:07.300351Z",
     "iopub.status.idle": "2023-11-13T14:16:07.367990Z",
     "shell.execute_reply": "2023-11-13T14:16:07.366794Z"
    },
    "papermill": {
     "duration": 0.08561,
     "end_time": "2023-11-13T14:16:07.371614",
     "exception": false,
     "start_time": "2023-11-13T14:16:07.286004",
     "status": "completed"
    },
    "tags": []
   },
   "outputs": [
    {
     "data": {
      "text/html": [
       "<div>\n",
       "<style scoped>\n",
       "    .dataframe tbody tr th:only-of-type {\n",
       "        vertical-align: middle;\n",
       "    }\n",
       "\n",
       "    .dataframe tbody tr th {\n",
       "        vertical-align: top;\n",
       "    }\n",
       "\n",
       "    .dataframe thead th {\n",
       "        text-align: right;\n",
       "    }\n",
       "</style>\n",
       "<table border=\"1\" class=\"dataframe\">\n",
       "  <thead>\n",
       "    <tr style=\"text-align: right;\">\n",
       "      <th></th>\n",
       "      <th>baseline value</th>\n",
       "      <th>accelerations</th>\n",
       "      <th>fetal_movement</th>\n",
       "      <th>uterine_contractions</th>\n",
       "      <th>light_decelerations</th>\n",
       "      <th>severe_decelerations</th>\n",
       "      <th>prolongued_decelerations</th>\n",
       "      <th>abnormal_short_term_variability</th>\n",
       "      <th>mean_value_of_short_term_variability</th>\n",
       "      <th>percentage_of_time_with_abnormal_long_term_variability</th>\n",
       "      <th>...</th>\n",
       "      <th>histogram_min</th>\n",
       "      <th>histogram_max</th>\n",
       "      <th>histogram_number_of_peaks</th>\n",
       "      <th>histogram_number_of_zeroes</th>\n",
       "      <th>histogram_mode</th>\n",
       "      <th>histogram_mean</th>\n",
       "      <th>histogram_median</th>\n",
       "      <th>histogram_variance</th>\n",
       "      <th>histogram_tendency</th>\n",
       "      <th>fetal_health</th>\n",
       "    </tr>\n",
       "  </thead>\n",
       "  <tbody>\n",
       "    <tr>\n",
       "      <th>0</th>\n",
       "      <td>120.0</td>\n",
       "      <td>0.000</td>\n",
       "      <td>0.0</td>\n",
       "      <td>0.000</td>\n",
       "      <td>0.000</td>\n",
       "      <td>0.0</td>\n",
       "      <td>0.0</td>\n",
       "      <td>73.0</td>\n",
       "      <td>0.5</td>\n",
       "      <td>43.0</td>\n",
       "      <td>...</td>\n",
       "      <td>62.0</td>\n",
       "      <td>126.0</td>\n",
       "      <td>2.0</td>\n",
       "      <td>0.0</td>\n",
       "      <td>120.0</td>\n",
       "      <td>137.0</td>\n",
       "      <td>121.0</td>\n",
       "      <td>73.0</td>\n",
       "      <td>1.0</td>\n",
       "      <td>2.0</td>\n",
       "    </tr>\n",
       "    <tr>\n",
       "      <th>1</th>\n",
       "      <td>132.0</td>\n",
       "      <td>0.006</td>\n",
       "      <td>0.0</td>\n",
       "      <td>0.006</td>\n",
       "      <td>0.003</td>\n",
       "      <td>0.0</td>\n",
       "      <td>0.0</td>\n",
       "      <td>17.0</td>\n",
       "      <td>2.1</td>\n",
       "      <td>0.0</td>\n",
       "      <td>...</td>\n",
       "      <td>68.0</td>\n",
       "      <td>198.0</td>\n",
       "      <td>6.0</td>\n",
       "      <td>1.0</td>\n",
       "      <td>141.0</td>\n",
       "      <td>136.0</td>\n",
       "      <td>140.0</td>\n",
       "      <td>12.0</td>\n",
       "      <td>0.0</td>\n",
       "      <td>1.0</td>\n",
       "    </tr>\n",
       "    <tr>\n",
       "      <th>2</th>\n",
       "      <td>133.0</td>\n",
       "      <td>0.003</td>\n",
       "      <td>0.0</td>\n",
       "      <td>0.008</td>\n",
       "      <td>0.003</td>\n",
       "      <td>0.0</td>\n",
       "      <td>0.0</td>\n",
       "      <td>16.0</td>\n",
       "      <td>2.1</td>\n",
       "      <td>0.0</td>\n",
       "      <td>...</td>\n",
       "      <td>68.0</td>\n",
       "      <td>198.0</td>\n",
       "      <td>5.0</td>\n",
       "      <td>1.0</td>\n",
       "      <td>141.0</td>\n",
       "      <td>135.0</td>\n",
       "      <td>138.0</td>\n",
       "      <td>13.0</td>\n",
       "      <td>0.0</td>\n",
       "      <td>1.0</td>\n",
       "    </tr>\n",
       "    <tr>\n",
       "      <th>3</th>\n",
       "      <td>134.0</td>\n",
       "      <td>0.003</td>\n",
       "      <td>0.0</td>\n",
       "      <td>0.008</td>\n",
       "      <td>0.003</td>\n",
       "      <td>0.0</td>\n",
       "      <td>0.0</td>\n",
       "      <td>16.0</td>\n",
       "      <td>2.4</td>\n",
       "      <td>0.0</td>\n",
       "      <td>...</td>\n",
       "      <td>53.0</td>\n",
       "      <td>170.0</td>\n",
       "      <td>11.0</td>\n",
       "      <td>0.0</td>\n",
       "      <td>137.0</td>\n",
       "      <td>134.0</td>\n",
       "      <td>137.0</td>\n",
       "      <td>13.0</td>\n",
       "      <td>1.0</td>\n",
       "      <td>1.0</td>\n",
       "    </tr>\n",
       "    <tr>\n",
       "      <th>4</th>\n",
       "      <td>132.0</td>\n",
       "      <td>0.007</td>\n",
       "      <td>0.0</td>\n",
       "      <td>0.008</td>\n",
       "      <td>0.000</td>\n",
       "      <td>0.0</td>\n",
       "      <td>0.0</td>\n",
       "      <td>16.0</td>\n",
       "      <td>2.4</td>\n",
       "      <td>0.0</td>\n",
       "      <td>...</td>\n",
       "      <td>53.0</td>\n",
       "      <td>170.0</td>\n",
       "      <td>9.0</td>\n",
       "      <td>0.0</td>\n",
       "      <td>137.0</td>\n",
       "      <td>136.0</td>\n",
       "      <td>138.0</td>\n",
       "      <td>11.0</td>\n",
       "      <td>1.0</td>\n",
       "      <td>1.0</td>\n",
       "    </tr>\n",
       "  </tbody>\n",
       "</table>\n",
       "<p>5 rows × 22 columns</p>\n",
       "</div>"
      ],
      "text/plain": [
       "   baseline value  accelerations  fetal_movement  uterine_contractions  \\\n",
       "0           120.0          0.000             0.0                 0.000   \n",
       "1           132.0          0.006             0.0                 0.006   \n",
       "2           133.0          0.003             0.0                 0.008   \n",
       "3           134.0          0.003             0.0                 0.008   \n",
       "4           132.0          0.007             0.0                 0.008   \n",
       "\n",
       "   light_decelerations  severe_decelerations  prolongued_decelerations  \\\n",
       "0                0.000                   0.0                       0.0   \n",
       "1                0.003                   0.0                       0.0   \n",
       "2                0.003                   0.0                       0.0   \n",
       "3                0.003                   0.0                       0.0   \n",
       "4                0.000                   0.0                       0.0   \n",
       "\n",
       "   abnormal_short_term_variability  mean_value_of_short_term_variability  \\\n",
       "0                             73.0                                   0.5   \n",
       "1                             17.0                                   2.1   \n",
       "2                             16.0                                   2.1   \n",
       "3                             16.0                                   2.4   \n",
       "4                             16.0                                   2.4   \n",
       "\n",
       "   percentage_of_time_with_abnormal_long_term_variability  ...  histogram_min  \\\n",
       "0                                               43.0       ...           62.0   \n",
       "1                                                0.0       ...           68.0   \n",
       "2                                                0.0       ...           68.0   \n",
       "3                                                0.0       ...           53.0   \n",
       "4                                                0.0       ...           53.0   \n",
       "\n",
       "   histogram_max  histogram_number_of_peaks  histogram_number_of_zeroes  \\\n",
       "0          126.0                        2.0                         0.0   \n",
       "1          198.0                        6.0                         1.0   \n",
       "2          198.0                        5.0                         1.0   \n",
       "3          170.0                       11.0                         0.0   \n",
       "4          170.0                        9.0                         0.0   \n",
       "\n",
       "   histogram_mode  histogram_mean  histogram_median  histogram_variance  \\\n",
       "0           120.0           137.0             121.0                73.0   \n",
       "1           141.0           136.0             140.0                12.0   \n",
       "2           141.0           135.0             138.0                13.0   \n",
       "3           137.0           134.0             137.0                13.0   \n",
       "4           137.0           136.0             138.0                11.0   \n",
       "\n",
       "   histogram_tendency  fetal_health  \n",
       "0                 1.0           2.0  \n",
       "1                 0.0           1.0  \n",
       "2                 0.0           1.0  \n",
       "3                 1.0           1.0  \n",
       "4                 1.0           1.0  \n",
       "\n",
       "[5 rows x 22 columns]"
      ]
     },
     "execution_count": 4,
     "metadata": {},
     "output_type": "execute_result"
    }
   ],
   "source": [
    "df = pd.read_csv(r\"C:\\Users\\DELL\\Downloads\\archive (3)\\fetal_health.csv\")\n",
    "df.head()"
   ]
  },
  {
   "cell_type": "markdown",
   "id": "246d4ab0",
   "metadata": {
    "papermill": {
     "duration": 0.012481,
     "end_time": "2023-11-13T14:16:07.396998",
     "exception": false,
     "start_time": "2023-11-13T14:16:07.384517",
     "status": "completed"
    },
    "tags": []
   },
   "source": [
    "* total 22 attribute, 2126 observations, with no missing value\n",
    "* all data type are in float/numeric"
   ]
  },
  {
   "cell_type": "markdown",
   "id": "3b5c6316",
   "metadata": {
    "papermill": {
     "duration": 0.012494,
     "end_time": "2023-11-13T14:16:07.422240",
     "exception": false,
     "start_time": "2023-11-13T14:16:07.409746",
     "status": "completed"
    },
    "tags": []
   },
   "source": [
    "Feature description ([source](https://www.ncbi.nlm.nih.gov/pmc/articles/PMC6822315/)):\n",
    "1. baseline value: Fetal heart rate baseline (beats per minute)\n",
    "2. accelerations: Number of accelerations per second\n",
    "3. fetal_movement: Number of fetal movements per second\n",
    "4. uterine_contractions: Number of uterine contractions per second\n",
    "5. light_decelerations: Number of light decelerations per second\n",
    "6. severe_decelerations: Number of severe decelerations per second\n",
    "7. prolongued_decelerations: Number of prolonged decelerations per second\n",
    "8. abnormal_short_term_variability: Percentage of time with abnormal short-term variability\n",
    "9. mean_value_of_short_term_variability: Mean value of short-term variability\n",
    "10. percentage_of_time_with_abnormal_long_term_variability: Percentage of time with abnormal long-term variability\n",
    "11. mean_value_of_long_term_variability: Mean value of long-term variability\n",
    "12. histogram_width: Width of FHR histogram\n",
    "13. histogram_min: Minimum of FHR histogram\n",
    "14. histogram_max: Maximum of FHR histogram\n",
    "15. histogram_number_of_peaks: Number of FHR histogram peaks\n",
    "16. histogram_number_of_zeroes: Number of FHR histogram zeroes\n",
    "17. histogram_mode: FHR histogram mode\n",
    "18. histogram_mean: FHR histogram mean\n",
    "19. histogram_median: FHR histogram median\n",
    "20. histogram_variance: FHR histogram variance\n",
    "21. histogram_tendency: FHR histogram tendency\n",
    "22. fetal_health: Fetal state class code (1=Normal, 2=Suspected, 3=Pathological)"
   ]
  },
  {
   "cell_type": "code",
   "execution_count": 5,
   "id": "7f3d9430",
   "metadata": {
    "execution": {
     "iopub.execute_input": "2023-11-13T14:16:07.449465Z",
     "iopub.status.busy": "2023-11-13T14:16:07.449077Z",
     "iopub.status.idle": "2023-11-13T14:16:07.491211Z",
     "shell.execute_reply": "2023-11-13T14:16:07.489981Z"
    },
    "papermill": {
     "duration": 0.05862,
     "end_time": "2023-11-13T14:16:07.493693",
     "exception": false,
     "start_time": "2023-11-13T14:16:07.435073",
     "status": "completed"
    },
    "tags": []
   },
   "outputs": [
    {
     "name": "stdout",
     "output_type": "stream",
     "text": [
      "<class 'pandas.core.frame.DataFrame'>\n",
      "RangeIndex: 2126 entries, 0 to 2125\n",
      "Data columns (total 22 columns):\n",
      " #   Column                                                  Non-Null Count  Dtype  \n",
      "---  ------                                                  --------------  -----  \n",
      " 0   baseline value                                          2126 non-null   float64\n",
      " 1   accelerations                                           2126 non-null   float64\n",
      " 2   fetal_movement                                          2126 non-null   float64\n",
      " 3   uterine_contractions                                    2126 non-null   float64\n",
      " 4   light_decelerations                                     2126 non-null   float64\n",
      " 5   severe_decelerations                                    2126 non-null   float64\n",
      " 6   prolongued_decelerations                                2126 non-null   float64\n",
      " 7   abnormal_short_term_variability                         2126 non-null   float64\n",
      " 8   mean_value_of_short_term_variability                    2126 non-null   float64\n",
      " 9   percentage_of_time_with_abnormal_long_term_variability  2126 non-null   float64\n",
      " 10  mean_value_of_long_term_variability                     2126 non-null   float64\n",
      " 11  histogram_width                                         2126 non-null   float64\n",
      " 12  histogram_min                                           2126 non-null   float64\n",
      " 13  histogram_max                                           2126 non-null   float64\n",
      " 14  histogram_number_of_peaks                               2126 non-null   float64\n",
      " 15  histogram_number_of_zeroes                              2126 non-null   float64\n",
      " 16  histogram_mode                                          2126 non-null   float64\n",
      " 17  histogram_mean                                          2126 non-null   float64\n",
      " 18  histogram_median                                        2126 non-null   float64\n",
      " 19  histogram_variance                                      2126 non-null   float64\n",
      " 20  histogram_tendency                                      2126 non-null   float64\n",
      " 21  fetal_health                                            2126 non-null   float64\n",
      "dtypes: float64(22)\n",
      "memory usage: 365.5 KB\n"
     ]
    }
   ],
   "source": [
    "df.info()"
   ]
  },
  {
   "cell_type": "code",
   "execution_count": 6,
   "id": "856a645a",
   "metadata": {
    "execution": {
     "iopub.execute_input": "2023-11-13T14:16:07.522336Z",
     "iopub.status.busy": "2023-11-13T14:16:07.521835Z",
     "iopub.status.idle": "2023-11-13T14:16:07.606699Z",
     "shell.execute_reply": "2023-11-13T14:16:07.605436Z"
    },
    "papermill": {
     "duration": 0.102479,
     "end_time": "2023-11-13T14:16:07.609619",
     "exception": false,
     "start_time": "2023-11-13T14:16:07.507140",
     "status": "completed"
    },
    "tags": []
   },
   "outputs": [
    {
     "data": {
      "text/html": [
       "<div>\n",
       "<style scoped>\n",
       "    .dataframe tbody tr th:only-of-type {\n",
       "        vertical-align: middle;\n",
       "    }\n",
       "\n",
       "    .dataframe tbody tr th {\n",
       "        vertical-align: top;\n",
       "    }\n",
       "\n",
       "    .dataframe thead th {\n",
       "        text-align: right;\n",
       "    }\n",
       "</style>\n",
       "<table border=\"1\" class=\"dataframe\">\n",
       "  <thead>\n",
       "    <tr style=\"text-align: right;\">\n",
       "      <th></th>\n",
       "      <th>baseline value</th>\n",
       "      <th>accelerations</th>\n",
       "      <th>fetal_movement</th>\n",
       "      <th>uterine_contractions</th>\n",
       "      <th>light_decelerations</th>\n",
       "      <th>severe_decelerations</th>\n",
       "      <th>prolongued_decelerations</th>\n",
       "      <th>abnormal_short_term_variability</th>\n",
       "      <th>mean_value_of_short_term_variability</th>\n",
       "      <th>percentage_of_time_with_abnormal_long_term_variability</th>\n",
       "      <th>...</th>\n",
       "      <th>histogram_min</th>\n",
       "      <th>histogram_max</th>\n",
       "      <th>histogram_number_of_peaks</th>\n",
       "      <th>histogram_number_of_zeroes</th>\n",
       "      <th>histogram_mode</th>\n",
       "      <th>histogram_mean</th>\n",
       "      <th>histogram_median</th>\n",
       "      <th>histogram_variance</th>\n",
       "      <th>histogram_tendency</th>\n",
       "      <th>fetal_health</th>\n",
       "    </tr>\n",
       "  </thead>\n",
       "  <tbody>\n",
       "    <tr>\n",
       "      <th>count</th>\n",
       "      <td>2126.000000</td>\n",
       "      <td>2126.000000</td>\n",
       "      <td>2126.000000</td>\n",
       "      <td>2126.000000</td>\n",
       "      <td>2126.000000</td>\n",
       "      <td>2126.000000</td>\n",
       "      <td>2126.000000</td>\n",
       "      <td>2126.000000</td>\n",
       "      <td>2126.000000</td>\n",
       "      <td>2126.00000</td>\n",
       "      <td>...</td>\n",
       "      <td>2126.000000</td>\n",
       "      <td>2126.000000</td>\n",
       "      <td>2126.000000</td>\n",
       "      <td>2126.000000</td>\n",
       "      <td>2126.000000</td>\n",
       "      <td>2126.000000</td>\n",
       "      <td>2126.000000</td>\n",
       "      <td>2126.000000</td>\n",
       "      <td>2126.000000</td>\n",
       "      <td>2126.000000</td>\n",
       "    </tr>\n",
       "    <tr>\n",
       "      <th>mean</th>\n",
       "      <td>133.303857</td>\n",
       "      <td>0.003178</td>\n",
       "      <td>0.009481</td>\n",
       "      <td>0.004366</td>\n",
       "      <td>0.001889</td>\n",
       "      <td>0.000003</td>\n",
       "      <td>0.000159</td>\n",
       "      <td>46.990122</td>\n",
       "      <td>1.332785</td>\n",
       "      <td>9.84666</td>\n",
       "      <td>...</td>\n",
       "      <td>93.579492</td>\n",
       "      <td>164.025400</td>\n",
       "      <td>4.068203</td>\n",
       "      <td>0.323612</td>\n",
       "      <td>137.452023</td>\n",
       "      <td>134.610536</td>\n",
       "      <td>138.090310</td>\n",
       "      <td>18.808090</td>\n",
       "      <td>0.320320</td>\n",
       "      <td>1.304327</td>\n",
       "    </tr>\n",
       "    <tr>\n",
       "      <th>std</th>\n",
       "      <td>9.840844</td>\n",
       "      <td>0.003866</td>\n",
       "      <td>0.046666</td>\n",
       "      <td>0.002946</td>\n",
       "      <td>0.002960</td>\n",
       "      <td>0.000057</td>\n",
       "      <td>0.000590</td>\n",
       "      <td>17.192814</td>\n",
       "      <td>0.883241</td>\n",
       "      <td>18.39688</td>\n",
       "      <td>...</td>\n",
       "      <td>29.560212</td>\n",
       "      <td>17.944183</td>\n",
       "      <td>2.949386</td>\n",
       "      <td>0.706059</td>\n",
       "      <td>16.381289</td>\n",
       "      <td>15.593596</td>\n",
       "      <td>14.466589</td>\n",
       "      <td>28.977636</td>\n",
       "      <td>0.610829</td>\n",
       "      <td>0.614377</td>\n",
       "    </tr>\n",
       "    <tr>\n",
       "      <th>min</th>\n",
       "      <td>106.000000</td>\n",
       "      <td>0.000000</td>\n",
       "      <td>0.000000</td>\n",
       "      <td>0.000000</td>\n",
       "      <td>0.000000</td>\n",
       "      <td>0.000000</td>\n",
       "      <td>0.000000</td>\n",
       "      <td>12.000000</td>\n",
       "      <td>0.200000</td>\n",
       "      <td>0.00000</td>\n",
       "      <td>...</td>\n",
       "      <td>50.000000</td>\n",
       "      <td>122.000000</td>\n",
       "      <td>0.000000</td>\n",
       "      <td>0.000000</td>\n",
       "      <td>60.000000</td>\n",
       "      <td>73.000000</td>\n",
       "      <td>77.000000</td>\n",
       "      <td>0.000000</td>\n",
       "      <td>-1.000000</td>\n",
       "      <td>1.000000</td>\n",
       "    </tr>\n",
       "    <tr>\n",
       "      <th>25%</th>\n",
       "      <td>126.000000</td>\n",
       "      <td>0.000000</td>\n",
       "      <td>0.000000</td>\n",
       "      <td>0.002000</td>\n",
       "      <td>0.000000</td>\n",
       "      <td>0.000000</td>\n",
       "      <td>0.000000</td>\n",
       "      <td>32.000000</td>\n",
       "      <td>0.700000</td>\n",
       "      <td>0.00000</td>\n",
       "      <td>...</td>\n",
       "      <td>67.000000</td>\n",
       "      <td>152.000000</td>\n",
       "      <td>2.000000</td>\n",
       "      <td>0.000000</td>\n",
       "      <td>129.000000</td>\n",
       "      <td>125.000000</td>\n",
       "      <td>129.000000</td>\n",
       "      <td>2.000000</td>\n",
       "      <td>0.000000</td>\n",
       "      <td>1.000000</td>\n",
       "    </tr>\n",
       "    <tr>\n",
       "      <th>50%</th>\n",
       "      <td>133.000000</td>\n",
       "      <td>0.002000</td>\n",
       "      <td>0.000000</td>\n",
       "      <td>0.004000</td>\n",
       "      <td>0.000000</td>\n",
       "      <td>0.000000</td>\n",
       "      <td>0.000000</td>\n",
       "      <td>49.000000</td>\n",
       "      <td>1.200000</td>\n",
       "      <td>0.00000</td>\n",
       "      <td>...</td>\n",
       "      <td>93.000000</td>\n",
       "      <td>162.000000</td>\n",
       "      <td>3.000000</td>\n",
       "      <td>0.000000</td>\n",
       "      <td>139.000000</td>\n",
       "      <td>136.000000</td>\n",
       "      <td>139.000000</td>\n",
       "      <td>7.000000</td>\n",
       "      <td>0.000000</td>\n",
       "      <td>1.000000</td>\n",
       "    </tr>\n",
       "    <tr>\n",
       "      <th>75%</th>\n",
       "      <td>140.000000</td>\n",
       "      <td>0.006000</td>\n",
       "      <td>0.003000</td>\n",
       "      <td>0.007000</td>\n",
       "      <td>0.003000</td>\n",
       "      <td>0.000000</td>\n",
       "      <td>0.000000</td>\n",
       "      <td>61.000000</td>\n",
       "      <td>1.700000</td>\n",
       "      <td>11.00000</td>\n",
       "      <td>...</td>\n",
       "      <td>120.000000</td>\n",
       "      <td>174.000000</td>\n",
       "      <td>6.000000</td>\n",
       "      <td>0.000000</td>\n",
       "      <td>148.000000</td>\n",
       "      <td>145.000000</td>\n",
       "      <td>148.000000</td>\n",
       "      <td>24.000000</td>\n",
       "      <td>1.000000</td>\n",
       "      <td>1.000000</td>\n",
       "    </tr>\n",
       "    <tr>\n",
       "      <th>max</th>\n",
       "      <td>160.000000</td>\n",
       "      <td>0.019000</td>\n",
       "      <td>0.481000</td>\n",
       "      <td>0.015000</td>\n",
       "      <td>0.015000</td>\n",
       "      <td>0.001000</td>\n",
       "      <td>0.005000</td>\n",
       "      <td>87.000000</td>\n",
       "      <td>7.000000</td>\n",
       "      <td>91.00000</td>\n",
       "      <td>...</td>\n",
       "      <td>159.000000</td>\n",
       "      <td>238.000000</td>\n",
       "      <td>18.000000</td>\n",
       "      <td>10.000000</td>\n",
       "      <td>187.000000</td>\n",
       "      <td>182.000000</td>\n",
       "      <td>186.000000</td>\n",
       "      <td>269.000000</td>\n",
       "      <td>1.000000</td>\n",
       "      <td>3.000000</td>\n",
       "    </tr>\n",
       "  </tbody>\n",
       "</table>\n",
       "<p>8 rows × 22 columns</p>\n",
       "</div>"
      ],
      "text/plain": [
       "       baseline value  accelerations  fetal_movement  uterine_contractions  \\\n",
       "count     2126.000000    2126.000000     2126.000000           2126.000000   \n",
       "mean       133.303857       0.003178        0.009481              0.004366   \n",
       "std          9.840844       0.003866        0.046666              0.002946   \n",
       "min        106.000000       0.000000        0.000000              0.000000   \n",
       "25%        126.000000       0.000000        0.000000              0.002000   \n",
       "50%        133.000000       0.002000        0.000000              0.004000   \n",
       "75%        140.000000       0.006000        0.003000              0.007000   \n",
       "max        160.000000       0.019000        0.481000              0.015000   \n",
       "\n",
       "       light_decelerations  severe_decelerations  prolongued_decelerations  \\\n",
       "count          2126.000000           2126.000000               2126.000000   \n",
       "mean              0.001889              0.000003                  0.000159   \n",
       "std               0.002960              0.000057                  0.000590   \n",
       "min               0.000000              0.000000                  0.000000   \n",
       "25%               0.000000              0.000000                  0.000000   \n",
       "50%               0.000000              0.000000                  0.000000   \n",
       "75%               0.003000              0.000000                  0.000000   \n",
       "max               0.015000              0.001000                  0.005000   \n",
       "\n",
       "       abnormal_short_term_variability  mean_value_of_short_term_variability  \\\n",
       "count                      2126.000000                           2126.000000   \n",
       "mean                         46.990122                              1.332785   \n",
       "std                          17.192814                              0.883241   \n",
       "min                          12.000000                              0.200000   \n",
       "25%                          32.000000                              0.700000   \n",
       "50%                          49.000000                              1.200000   \n",
       "75%                          61.000000                              1.700000   \n",
       "max                          87.000000                              7.000000   \n",
       "\n",
       "       percentage_of_time_with_abnormal_long_term_variability  ...  \\\n",
       "count                                         2126.00000       ...   \n",
       "mean                                             9.84666       ...   \n",
       "std                                             18.39688       ...   \n",
       "min                                              0.00000       ...   \n",
       "25%                                              0.00000       ...   \n",
       "50%                                              0.00000       ...   \n",
       "75%                                             11.00000       ...   \n",
       "max                                             91.00000       ...   \n",
       "\n",
       "       histogram_min  histogram_max  histogram_number_of_peaks  \\\n",
       "count    2126.000000    2126.000000                2126.000000   \n",
       "mean       93.579492     164.025400                   4.068203   \n",
       "std        29.560212      17.944183                   2.949386   \n",
       "min        50.000000     122.000000                   0.000000   \n",
       "25%        67.000000     152.000000                   2.000000   \n",
       "50%        93.000000     162.000000                   3.000000   \n",
       "75%       120.000000     174.000000                   6.000000   \n",
       "max       159.000000     238.000000                  18.000000   \n",
       "\n",
       "       histogram_number_of_zeroes  histogram_mode  histogram_mean  \\\n",
       "count                 2126.000000     2126.000000     2126.000000   \n",
       "mean                     0.323612      137.452023      134.610536   \n",
       "std                      0.706059       16.381289       15.593596   \n",
       "min                      0.000000       60.000000       73.000000   \n",
       "25%                      0.000000      129.000000      125.000000   \n",
       "50%                      0.000000      139.000000      136.000000   \n",
       "75%                      0.000000      148.000000      145.000000   \n",
       "max                     10.000000      187.000000      182.000000   \n",
       "\n",
       "       histogram_median  histogram_variance  histogram_tendency  fetal_health  \n",
       "count       2126.000000         2126.000000         2126.000000   2126.000000  \n",
       "mean         138.090310           18.808090            0.320320      1.304327  \n",
       "std           14.466589           28.977636            0.610829      0.614377  \n",
       "min           77.000000            0.000000           -1.000000      1.000000  \n",
       "25%          129.000000            2.000000            0.000000      1.000000  \n",
       "50%          139.000000            7.000000            0.000000      1.000000  \n",
       "75%          148.000000           24.000000            1.000000      1.000000  \n",
       "max          186.000000          269.000000            1.000000      3.000000  \n",
       "\n",
       "[8 rows x 22 columns]"
      ]
     },
     "execution_count": 6,
     "metadata": {},
     "output_type": "execute_result"
    }
   ],
   "source": [
    "df.describe()"
   ]
  },
  {
   "cell_type": "markdown",
   "id": "1320df34",
   "metadata": {
    "papermill": {
     "duration": 0.013931,
     "end_time": "2023-11-13T14:16:07.637716",
     "exception": false,
     "start_time": "2023-11-13T14:16:07.623785",
     "status": "completed"
    },
    "tags": []
   },
   "source": [
    "## Pre-process data"
   ]
  },
  {
   "cell_type": "markdown",
   "id": "1e3382d4",
   "metadata": {
    "papermill": {
     "duration": 0.013432,
     "end_time": "2023-11-13T14:16:07.665334",
     "exception": false,
     "start_time": "2023-11-13T14:16:07.651902",
     "status": "completed"
    },
    "tags": []
   },
   "source": [
    "### Handling missing value"
   ]
  },
  {
   "cell_type": "code",
   "execution_count": 7,
   "id": "4cdffe7b",
   "metadata": {
    "execution": {
     "iopub.execute_input": "2023-11-13T14:16:07.696390Z",
     "iopub.status.busy": "2023-11-13T14:16:07.695503Z",
     "iopub.status.idle": "2023-11-13T14:16:07.704813Z",
     "shell.execute_reply": "2023-11-13T14:16:07.703649Z"
    },
    "papermill": {
     "duration": 0.027189,
     "end_time": "2023-11-13T14:16:07.707009",
     "exception": false,
     "start_time": "2023-11-13T14:16:07.679820",
     "status": "completed"
    },
    "tags": []
   },
   "outputs": [
    {
     "data": {
      "text/plain": [
       "baseline value                                            0\n",
       "accelerations                                             0\n",
       "fetal_movement                                            0\n",
       "uterine_contractions                                      0\n",
       "light_decelerations                                       0\n",
       "severe_decelerations                                      0\n",
       "prolongued_decelerations                                  0\n",
       "abnormal_short_term_variability                           0\n",
       "mean_value_of_short_term_variability                      0\n",
       "percentage_of_time_with_abnormal_long_term_variability    0\n",
       "mean_value_of_long_term_variability                       0\n",
       "histogram_width                                           0\n",
       "histogram_min                                             0\n",
       "histogram_max                                             0\n",
       "histogram_number_of_peaks                                 0\n",
       "histogram_number_of_zeroes                                0\n",
       "histogram_mode                                            0\n",
       "histogram_mean                                            0\n",
       "histogram_median                                          0\n",
       "histogram_variance                                        0\n",
       "histogram_tendency                                        0\n",
       "fetal_health                                              0\n",
       "dtype: int64"
      ]
     },
     "execution_count": 7,
     "metadata": {},
     "output_type": "execute_result"
    }
   ],
   "source": [
    "# detect missing value if any\n",
    "df.isnull().sum()"
   ]
  },
  {
   "cell_type": "markdown",
   "id": "2613414a",
   "metadata": {
    "papermill": {
     "duration": 0.013715,
     "end_time": "2023-11-13T14:16:07.735342",
     "exception": false,
     "start_time": "2023-11-13T14:16:07.721627",
     "status": "completed"
    },
    "tags": []
   },
   "source": [
    "no missing values"
   ]
  },
  {
   "cell_type": "markdown",
   "id": "fcc9a7aa",
   "metadata": {
    "papermill": {
     "duration": 0.013493,
     "end_time": "2023-11-13T14:16:07.763329",
     "exception": false,
     "start_time": "2023-11-13T14:16:07.749836",
     "status": "completed"
    },
    "tags": []
   },
   "source": [
    "### Handling duplicated rows"
   ]
  },
  {
   "cell_type": "code",
   "execution_count": 8,
   "id": "a4abeb35",
   "metadata": {
    "execution": {
     "iopub.execute_input": "2023-11-13T14:16:07.793223Z",
     "iopub.status.busy": "2023-11-13T14:16:07.792820Z",
     "iopub.status.idle": "2023-11-13T14:16:07.799576Z",
     "shell.execute_reply": "2023-11-13T14:16:07.798446Z"
    },
    "papermill": {
     "duration": 0.024731,
     "end_time": "2023-11-13T14:16:07.801902",
     "exception": false,
     "start_time": "2023-11-13T14:16:07.777171",
     "status": "completed"
    },
    "tags": []
   },
   "outputs": [
    {
     "data": {
      "text/plain": [
       "(2126, 22)"
      ]
     },
     "execution_count": 8,
     "metadata": {},
     "output_type": "execute_result"
    }
   ],
   "source": [
    "# check shape before drop\n",
    "df.shape"
   ]
  },
  {
   "cell_type": "code",
   "execution_count": 9,
   "id": "4cca7e65",
   "metadata": {
    "execution": {
     "iopub.execute_input": "2023-11-13T14:16:07.831752Z",
     "iopub.status.busy": "2023-11-13T14:16:07.831291Z",
     "iopub.status.idle": "2023-11-13T14:16:07.849586Z",
     "shell.execute_reply": "2023-11-13T14:16:07.848615Z"
    },
    "papermill": {
     "duration": 0.03587,
     "end_time": "2023-11-13T14:16:07.851994",
     "exception": false,
     "start_time": "2023-11-13T14:16:07.816124",
     "status": "completed"
    },
    "tags": []
   },
   "outputs": [
    {
     "data": {
      "text/plain": [
       "(2113, 22)"
      ]
     },
     "execution_count": 9,
     "metadata": {},
     "output_type": "execute_result"
    }
   ],
   "source": [
    "# drop duplicated row\n",
    "df = df.drop_duplicates()\n",
    "\n",
    "# check shape after drop\n",
    "df.shape"
   ]
  },
  {
   "cell_type": "markdown",
   "id": "5c3a0c11",
   "metadata": {
    "papermill": {
     "duration": 0.014066,
     "end_time": "2023-11-13T14:16:07.880464",
     "exception": false,
     "start_time": "2023-11-13T14:16:07.866398",
     "status": "completed"
    },
    "tags": []
   },
   "source": [
    "13 rows duplicated and is removed from df"
   ]
  },
  {
   "cell_type": "markdown",
   "id": "6dbd41f7",
   "metadata": {
    "papermill": {
     "duration": 0.013908,
     "end_time": "2023-11-13T14:16:07.908716",
     "exception": false,
     "start_time": "2023-11-13T14:16:07.894808",
     "status": "completed"
    },
    "tags": []
   },
   "source": [
    "### Handling outlier"
   ]
  },
  {
   "cell_type": "code",
   "execution_count": 10,
   "id": "39414984",
   "metadata": {
    "execution": {
     "iopub.execute_input": "2023-11-13T14:16:07.939353Z",
     "iopub.status.busy": "2023-11-13T14:16:07.938929Z",
     "iopub.status.idle": "2023-11-13T14:16:10.761340Z",
     "shell.execute_reply": "2023-11-13T14:16:10.760425Z"
    },
    "papermill": {
     "duration": 2.841103,
     "end_time": "2023-11-13T14:16:10.763879",
     "exception": false,
     "start_time": "2023-11-13T14:16:07.922776",
     "status": "completed"
    },
    "tags": []
   },
   "outputs": [
    {
     "data": {
      "image/png": "[encoded data removed]",
      "text/plain": [
       "<Figure size 1000x1200 with 22 Axes>"
      ]
     },
     "metadata": {},
     "output_type": "display_data"
    }
   ],
   "source": [
    "# Handling outlier for numeric attributes \n",
    "# Create a 2x3 grid of subplots\n",
    "fig, axes = plt.subplots(6, 4, figsize=(10, 12))\n",
    "axes = axes.flatten()\n",
    "    \n",
    "# Create a boxplot for each continuous variable\n",
    "for i, column in enumerate(df.columns):\n",
    "    sns.boxplot(data=df, x=column, ax=axes[i])\n",
    "    axes[i].set_title(f\"{column}\", fontsize=10)\n",
    "    axes[i].set_xlabel(\"\")  # Remove x-axis title\n",
    "\n",
    "# Remove empty subplot\n",
    "for i in range(len(df.columns), len(axes)):\n",
    "    fig.delaxes(axes[i])\n",
    "\n",
    "# Adjust layout\n",
    "plt.tight_layout()\n",
    "plt.show()"
   ]
  },
  {
   "cell_type": "markdown",
   "id": "92dac896",
   "metadata": {
    "papermill": {
     "duration": 0.01598,
     "end_time": "2023-11-13T14:16:10.796921",
     "exception": false,
     "start_time": "2023-11-13T14:16:10.780941",
     "status": "completed"
    },
    "tags": []
   },
   "source": [
    "It can be observed that several attributes exhibit outliers based on the boxplots. However, given that the dataset was examined and interpreted by three expert obstetricians, it is believed that these outliers on the boxplots may not be outliers in the actual clinical context. Instead, they could be indicative of various factors, such as signals of fetal distress, maternal conditions etc. \n",
    "\n",
    "No action will be taken on these values that out of boxplot range."
   ]
  },
  {
   "cell_type": "markdown",
   "id": "ac784eba",
   "metadata": {
    "papermill": {
     "duration": 0.015497,
     "end_time": "2023-11-13T14:16:10.829235",
     "exception": false,
     "start_time": "2023-11-13T14:16:10.813738",
     "status": "completed"
    },
    "tags": []
   },
   "source": [
    "## EDA"
   ]
  },
  {
   "cell_type": "markdown",
   "id": "c08dff2c",
   "metadata": {
    "papermill": {
     "duration": 0.015492,
     "end_time": "2023-11-13T14:16:10.923742",
     "exception": false,
     "start_time": "2023-11-13T14:16:10.908250",
     "status": "completed"
    },
    "tags": []
   },
   "source": [
    "## Label encoding"
   ]
  },
  {
   "cell_type": "code",
   "execution_count": 11,
   "id": "3faacfcf",
   "metadata": {
    "execution": {
     "iopub.execute_input": "2023-11-13T14:16:10.957430Z",
     "iopub.status.busy": "2023-11-13T14:16:10.957001Z",
     "iopub.status.idle": "2023-11-13T14:16:10.964781Z",
     "shell.execute_reply": "2023-11-13T14:16:10.963681Z"
    },
    "papermill": {
     "duration": 0.02774,
     "end_time": "2023-11-13T14:16:10.967420",
     "exception": false,
     "start_time": "2023-11-13T14:16:10.939680",
     "status": "completed"
    },
    "tags": []
   },
   "outputs": [],
   "source": [
    "# Convert target variable to discrete/interger\n",
    "df['fetal_health'] = df['fetal_health'].astype(int)"
   ]
  },
  {
   "cell_type": "markdown",
   "id": "247a44c1",
   "metadata": {
    "papermill": {
     "duration": 0.015763,
     "end_time": "2023-11-13T14:16:10.999904",
     "exception": false,
     "start_time": "2023-11-13T14:16:10.984141",
     "status": "completed"
    },
    "tags": []
   },
   "source": [
    "### Data Splitting\n",
    "70-30 split"
   ]
  },
  {
   "cell_type": "code",
   "execution_count": 12,
   "id": "2d6e49a7",
   "metadata": {
    "execution": {
     "iopub.execute_input": "2023-11-13T14:16:11.034210Z",
     "iopub.status.busy": "2023-11-13T14:16:11.033326Z",
     "iopub.status.idle": "2023-11-13T14:16:11.043571Z",
     "shell.execute_reply": "2023-11-13T14:16:11.042716Z"
    },
    "papermill": {
     "duration": 0.030061,
     "end_time": "2023-11-13T14:16:11.046195",
     "exception": false,
     "start_time": "2023-11-13T14:16:11.016134",
     "status": "completed"
    },
    "tags": []
   },
   "outputs": [],
   "source": [
    "df_features = df.drop(['fetal_health'], axis=1)\n",
    "df_target = df['fetal_health']\n",
    "\n",
    "# split df at 70-30 ratio\n",
    "X_train, X_test, y_train, y_test = train_test_split(df_features, df_target, test_size=0.3, random_state=123)"
   ]
  },
  {
   "cell_type": "markdown",
   "id": "8362d171",
   "metadata": {
    "papermill": {
     "duration": 0.01561,
     "end_time": "2023-11-13T14:16:11.077823",
     "exception": false,
     "start_time": "2023-11-13T14:16:11.062213",
     "status": "completed"
    },
    "tags": []
   },
   "source": [
    "### Data Transformation\n",
    "* Conducted on train_set and test_set separately\n",
    "* Scaling and normalization is performed, by scaling all the continuous variables into a common scale to ease the comparison between variables with various units and ranges\n",
    "* All features will be transformed since all are numerical data\n",
    "* Formula employed: x=(x−mean)/stdev"
   ]
  },
  {
   "cell_type": "code",
   "execution_count": 13,
   "id": "c4bcfb2b",
   "metadata": {
    "execution": {
     "iopub.execute_input": "2023-11-13T14:16:11.112138Z",
     "iopub.status.busy": "2023-11-13T14:16:11.111274Z",
     "iopub.status.idle": "2023-11-13T14:16:11.126116Z",
     "shell.execute_reply": "2023-11-13T14:16:11.125020Z"
    },
    "papermill": {
     "duration": 0.035012,
     "end_time": "2023-11-13T14:16:11.128778",
     "exception": false,
     "start_time": "2023-11-13T14:16:11.093766",
     "status": "completed"
    },
    "tags": []
   },
   "outputs": [],
   "source": [
    "# Initialize the MinMaxScaler object\n",
    "scaler = MinMaxScaler()\n",
    "\n",
    "# Fit and transform the train_set & test_set, features only\n",
    "scaled_X_train = scaler.fit_transform(X_train)\n",
    "scaled_X_test = scaler.fit_transform(X_test)"
   ]
  },
  {
   "cell_type": "code",
   "execution_count": 14,
   "id": "de09322d",
   "metadata": {
    "execution": {
     "iopub.execute_input": "2023-11-13T14:16:11.164318Z",
     "iopub.status.busy": "2023-11-13T14:16:11.163526Z",
     "iopub.status.idle": "2023-11-13T14:16:11.195481Z",
     "shell.execute_reply": "2023-11-13T14:16:11.194548Z"
    },
    "papermill": {
     "duration": 0.052192,
     "end_time": "2023-11-13T14:16:11.197901",
     "exception": false,
     "start_time": "2023-11-13T14:16:11.145709",
     "status": "completed"
    },
    "tags": []
   },
   "outputs": [
    {
     "data": {
      "text/html": [
       "<div>\n",
       "<style scoped>\n",
       "    .dataframe tbody tr th:only-of-type {\n",
       "        vertical-align: middle;\n",
       "    }\n",
       "\n",
       "    .dataframe tbody tr th {\n",
       "        vertical-align: top;\n",
       "    }\n",
       "\n",
       "    .dataframe thead th {\n",
       "        text-align: right;\n",
       "    }\n",
       "</style>\n",
       "<table border=\"1\" class=\"dataframe\">\n",
       "  <thead>\n",
       "    <tr style=\"text-align: right;\">\n",
       "      <th></th>\n",
       "      <th>baseline value</th>\n",
       "      <th>accelerations</th>\n",
       "      <th>fetal_movement</th>\n",
       "      <th>uterine_contractions</th>\n",
       "      <th>light_decelerations</th>\n",
       "      <th>severe_decelerations</th>\n",
       "      <th>prolongued_decelerations</th>\n",
       "      <th>abnormal_short_term_variability</th>\n",
       "      <th>mean_value_of_short_term_variability</th>\n",
       "      <th>percentage_of_time_with_abnormal_long_term_variability</th>\n",
       "      <th>...</th>\n",
       "      <th>histogram_width</th>\n",
       "      <th>histogram_min</th>\n",
       "      <th>histogram_max</th>\n",
       "      <th>histogram_number_of_peaks</th>\n",
       "      <th>histogram_number_of_zeroes</th>\n",
       "      <th>histogram_mode</th>\n",
       "      <th>histogram_mean</th>\n",
       "      <th>histogram_median</th>\n",
       "      <th>histogram_variance</th>\n",
       "      <th>histogram_tendency</th>\n",
       "    </tr>\n",
       "  </thead>\n",
       "  <tbody>\n",
       "    <tr>\n",
       "      <th>468</th>\n",
       "      <td>0.703704</td>\n",
       "      <td>0.000000</td>\n",
       "      <td>0.004158</td>\n",
       "      <td>0.133333</td>\n",
       "      <td>0.000000</td>\n",
       "      <td>0.0</td>\n",
       "      <td>0.0</td>\n",
       "      <td>0.960000</td>\n",
       "      <td>0.014706</td>\n",
       "      <td>0.373626</td>\n",
       "      <td>...</td>\n",
       "      <td>0.197740</td>\n",
       "      <td>0.759259</td>\n",
       "      <td>0.413793</td>\n",
       "      <td>0.111111</td>\n",
       "      <td>0.0</td>\n",
       "      <td>0.666667</td>\n",
       "      <td>0.642202</td>\n",
       "      <td>0.620370</td>\n",
       "      <td>0.000000</td>\n",
       "      <td>0.0</td>\n",
       "    </tr>\n",
       "    <tr>\n",
       "      <th>1143</th>\n",
       "      <td>0.296296</td>\n",
       "      <td>0.222222</td>\n",
       "      <td>0.000000</td>\n",
       "      <td>0.400000</td>\n",
       "      <td>0.400000</td>\n",
       "      <td>0.0</td>\n",
       "      <td>0.0</td>\n",
       "      <td>0.120000</td>\n",
       "      <td>0.220588</td>\n",
       "      <td>0.000000</td>\n",
       "      <td>...</td>\n",
       "      <td>0.372881</td>\n",
       "      <td>0.222222</td>\n",
       "      <td>0.181034</td>\n",
       "      <td>0.222222</td>\n",
       "      <td>0.0</td>\n",
       "      <td>0.579365</td>\n",
       "      <td>0.440367</td>\n",
       "      <td>0.444444</td>\n",
       "      <td>0.118959</td>\n",
       "      <td>1.0</td>\n",
       "    </tr>\n",
       "    <tr>\n",
       "      <th>162</th>\n",
       "      <td>0.296296</td>\n",
       "      <td>0.222222</td>\n",
       "      <td>0.000000</td>\n",
       "      <td>0.400000</td>\n",
       "      <td>0.066667</td>\n",
       "      <td>0.0</td>\n",
       "      <td>0.0</td>\n",
       "      <td>0.266667</td>\n",
       "      <td>0.147059</td>\n",
       "      <td>0.109890</td>\n",
       "      <td>...</td>\n",
       "      <td>0.440678</td>\n",
       "      <td>0.157407</td>\n",
       "      <td>0.224138</td>\n",
       "      <td>0.111111</td>\n",
       "      <td>0.0</td>\n",
       "      <td>0.515873</td>\n",
       "      <td>0.467890</td>\n",
       "      <td>0.444444</td>\n",
       "      <td>0.029740</td>\n",
       "      <td>1.0</td>\n",
       "    </tr>\n",
       "    <tr>\n",
       "      <th>919</th>\n",
       "      <td>0.296296</td>\n",
       "      <td>0.000000</td>\n",
       "      <td>0.000000</td>\n",
       "      <td>0.266667</td>\n",
       "      <td>0.000000</td>\n",
       "      <td>0.0</td>\n",
       "      <td>0.0</td>\n",
       "      <td>0.360000</td>\n",
       "      <td>0.088235</td>\n",
       "      <td>0.109890</td>\n",
       "      <td>...</td>\n",
       "      <td>0.112994</td>\n",
       "      <td>0.518519</td>\n",
       "      <td>0.060345</td>\n",
       "      <td>0.055556</td>\n",
       "      <td>0.0</td>\n",
       "      <td>0.500000</td>\n",
       "      <td>0.422018</td>\n",
       "      <td>0.398148</td>\n",
       "      <td>0.007435</td>\n",
       "      <td>0.5</td>\n",
       "    </tr>\n",
       "    <tr>\n",
       "      <th>1103</th>\n",
       "      <td>0.296296</td>\n",
       "      <td>0.388889</td>\n",
       "      <td>0.000000</td>\n",
       "      <td>0.200000</td>\n",
       "      <td>0.000000</td>\n",
       "      <td>0.0</td>\n",
       "      <td>0.0</td>\n",
       "      <td>0.093333</td>\n",
       "      <td>0.308824</td>\n",
       "      <td>0.000000</td>\n",
       "      <td>...</td>\n",
       "      <td>0.282486</td>\n",
       "      <td>0.500000</td>\n",
       "      <td>0.301724</td>\n",
       "      <td>0.111111</td>\n",
       "      <td>0.1</td>\n",
       "      <td>0.515873</td>\n",
       "      <td>0.495413</td>\n",
       "      <td>0.462963</td>\n",
       "      <td>0.029740</td>\n",
       "      <td>0.5</td>\n",
       "    </tr>\n",
       "  </tbody>\n",
       "</table>\n",
       "<p>5 rows × 21 columns</p>\n",
       "</div>"
      ],
      "text/plain": [
       "      baseline value  accelerations  fetal_movement  uterine_contractions  \\\n",
       "468         0.703704       0.000000        0.004158              0.133333   \n",
       "1143        0.296296       0.222222        0.000000              0.400000   \n",
       "162         0.296296       0.222222        0.000000              0.400000   \n",
       "919         0.296296       0.000000        0.000000              0.266667   \n",
       "1103        0.296296       0.388889        0.000000              0.200000   \n",
       "\n",
       "      light_decelerations  severe_decelerations  prolongued_decelerations  \\\n",
       "468              0.000000                   0.0                       0.0   \n",
       "1143             0.400000                   0.0                       0.0   \n",
       "162              0.066667                   0.0                       0.0   \n",
       "919              0.000000                   0.0                       0.0   \n",
       "1103             0.000000                   0.0                       0.0   \n",
       "\n",
       "      abnormal_short_term_variability  mean_value_of_short_term_variability  \\\n",
       "468                          0.960000                              0.014706   \n",
       "1143                         0.120000                              0.220588   \n",
       "162                          0.266667                              0.147059   \n",
       "919                          0.360000                              0.088235   \n",
       "1103                         0.093333                              0.308824   \n",
       "\n",
       "      percentage_of_time_with_abnormal_long_term_variability  ...  \\\n",
       "468                                            0.373626       ...   \n",
       "1143                                           0.000000       ...   \n",
       "162                                            0.109890       ...   \n",
       "919                                            0.109890       ...   \n",
       "1103                                           0.000000       ...   \n",
       "\n",
       "      histogram_width  histogram_min  histogram_max  \\\n",
       "468          0.197740       0.759259       0.413793   \n",
       "1143         0.372881       0.222222       0.181034   \n",
       "162          0.440678       0.157407       0.224138   \n",
       "919          0.112994       0.518519       0.060345   \n",
       "1103         0.282486       0.500000       0.301724   \n",
       "\n",
       "      histogram_number_of_peaks  histogram_number_of_zeroes  histogram_mode  \\\n",
       "468                    0.111111                         0.0        0.666667   \n",
       "1143                   0.222222                         0.0        0.579365   \n",
       "162                    0.111111                         0.0        0.515873   \n",
       "919                    0.055556                         0.0        0.500000   \n",
       "1103                   0.111111                         0.1        0.515873   \n",
       "\n",
       "      histogram_mean  histogram_median  histogram_variance  histogram_tendency  \n",
       "468         0.642202          0.620370            0.000000                 0.0  \n",
       "1143        0.440367          0.444444            0.118959                 1.0  \n",
       "162         0.467890          0.444444            0.029740                 1.0  \n",
       "919         0.422018          0.398148            0.007435                 0.5  \n",
       "1103        0.495413          0.462963            0.029740                 0.5  \n",
       "\n",
       "[5 rows x 21 columns]"
      ]
     },
     "execution_count": 14,
     "metadata": {},
     "output_type": "execute_result"
    }
   ],
   "source": [
    "scaled_X_train = pd.DataFrame(scaled_X_train, columns = X_train.columns, index=X_train.index)\n",
    "scaled_X_train.head()"
   ]
  },
  {
   "cell_type": "code",
   "execution_count": 15,
   "id": "ea1f1e2e",
   "metadata": {
    "execution": {
     "iopub.execute_input": "2023-11-13T14:16:11.233964Z",
     "iopub.status.busy": "2023-11-13T14:16:11.233190Z",
     "iopub.status.idle": "2023-11-13T14:16:11.265489Z",
     "shell.execute_reply": "2023-11-13T14:16:11.264364Z"
    },
    "papermill": {
     "duration": 0.052939,
     "end_time": "2023-11-13T14:16:11.268042",
     "exception": false,
     "start_time": "2023-11-13T14:16:11.215103",
     "status": "completed"
    },
    "tags": []
   },
   "outputs": [
    {
     "data": {
      "text/html": [
       "<div>\n",
       "<style scoped>\n",
       "    .dataframe tbody tr th:only-of-type {\n",
       "        vertical-align: middle;\n",
       "    }\n",
       "\n",
       "    .dataframe tbody tr th {\n",
       "        vertical-align: top;\n",
       "    }\n",
       "\n",
       "    .dataframe thead th {\n",
       "        text-align: right;\n",
       "    }\n",
       "</style>\n",
       "<table border=\"1\" class=\"dataframe\">\n",
       "  <thead>\n",
       "    <tr style=\"text-align: right;\">\n",
       "      <th></th>\n",
       "      <th>baseline value</th>\n",
       "      <th>accelerations</th>\n",
       "      <th>fetal_movement</th>\n",
       "      <th>uterine_contractions</th>\n",
       "      <th>light_decelerations</th>\n",
       "      <th>severe_decelerations</th>\n",
       "      <th>prolongued_decelerations</th>\n",
       "      <th>abnormal_short_term_variability</th>\n",
       "      <th>mean_value_of_short_term_variability</th>\n",
       "      <th>percentage_of_time_with_abnormal_long_term_variability</th>\n",
       "      <th>...</th>\n",
       "      <th>histogram_width</th>\n",
       "      <th>histogram_min</th>\n",
       "      <th>histogram_max</th>\n",
       "      <th>histogram_number_of_peaks</th>\n",
       "      <th>histogram_number_of_zeroes</th>\n",
       "      <th>histogram_mode</th>\n",
       "      <th>histogram_mean</th>\n",
       "      <th>histogram_median</th>\n",
       "      <th>histogram_variance</th>\n",
       "      <th>histogram_tendency</th>\n",
       "    </tr>\n",
       "  </thead>\n",
       "  <tbody>\n",
       "    <tr>\n",
       "      <th>1542</th>\n",
       "      <td>0.716981</td>\n",
       "      <td>0.157895</td>\n",
       "      <td>0.000000</td>\n",
       "      <td>0.571429</td>\n",
       "      <td>0.0</td>\n",
       "      <td>0.0</td>\n",
       "      <td>0.0</td>\n",
       "      <td>0.507042</td>\n",
       "      <td>0.074627</td>\n",
       "      <td>0.065934</td>\n",
       "      <td>...</td>\n",
       "      <td>0.254335</td>\n",
       "      <td>0.642202</td>\n",
       "      <td>0.382609</td>\n",
       "      <td>0.1875</td>\n",
       "      <td>0.0</td>\n",
       "      <td>0.692913</td>\n",
       "      <td>0.737374</td>\n",
       "      <td>0.722772</td>\n",
       "      <td>0.012</td>\n",
       "      <td>0.5</td>\n",
       "    </tr>\n",
       "    <tr>\n",
       "      <th>753</th>\n",
       "      <td>0.452830</td>\n",
       "      <td>0.000000</td>\n",
       "      <td>0.002096</td>\n",
       "      <td>0.000000</td>\n",
       "      <td>0.0</td>\n",
       "      <td>0.0</td>\n",
       "      <td>0.0</td>\n",
       "      <td>0.619718</td>\n",
       "      <td>0.044776</td>\n",
       "      <td>0.362637</td>\n",
       "      <td>...</td>\n",
       "      <td>0.092486</td>\n",
       "      <td>0.688073</td>\n",
       "      <td>0.182609</td>\n",
       "      <td>0.1250</td>\n",
       "      <td>0.0</td>\n",
       "      <td>0.543307</td>\n",
       "      <td>0.555556</td>\n",
       "      <td>0.544554</td>\n",
       "      <td>0.008</td>\n",
       "      <td>0.0</td>\n",
       "    </tr>\n",
       "    <tr>\n",
       "      <th>454</th>\n",
       "      <td>0.509434</td>\n",
       "      <td>0.000000</td>\n",
       "      <td>0.006289</td>\n",
       "      <td>0.214286</td>\n",
       "      <td>0.0</td>\n",
       "      <td>0.0</td>\n",
       "      <td>0.0</td>\n",
       "      <td>0.647887</td>\n",
       "      <td>0.044776</td>\n",
       "      <td>0.186813</td>\n",
       "      <td>...</td>\n",
       "      <td>0.109827</td>\n",
       "      <td>0.688073</td>\n",
       "      <td>0.208696</td>\n",
       "      <td>0.1250</td>\n",
       "      <td>0.0</td>\n",
       "      <td>0.598425</td>\n",
       "      <td>0.606061</td>\n",
       "      <td>0.594059</td>\n",
       "      <td>0.004</td>\n",
       "      <td>0.5</td>\n",
       "    </tr>\n",
       "    <tr>\n",
       "      <th>534</th>\n",
       "      <td>0.584906</td>\n",
       "      <td>0.000000</td>\n",
       "      <td>0.000000</td>\n",
       "      <td>0.000000</td>\n",
       "      <td>0.0</td>\n",
       "      <td>0.0</td>\n",
       "      <td>0.0</td>\n",
       "      <td>0.718310</td>\n",
       "      <td>0.044776</td>\n",
       "      <td>0.395604</td>\n",
       "      <td>...</td>\n",
       "      <td>0.537572</td>\n",
       "      <td>0.192661</td>\n",
       "      <td>0.382609</td>\n",
       "      <td>0.1875</td>\n",
       "      <td>0.0</td>\n",
       "      <td>0.653543</td>\n",
       "      <td>0.656566</td>\n",
       "      <td>0.653465</td>\n",
       "      <td>0.004</td>\n",
       "      <td>1.0</td>\n",
       "    </tr>\n",
       "    <tr>\n",
       "      <th>599</th>\n",
       "      <td>0.792453</td>\n",
       "      <td>0.000000</td>\n",
       "      <td>0.008386</td>\n",
       "      <td>0.285714</td>\n",
       "      <td>0.0</td>\n",
       "      <td>0.0</td>\n",
       "      <td>0.0</td>\n",
       "      <td>0.887324</td>\n",
       "      <td>0.059701</td>\n",
       "      <td>0.000000</td>\n",
       "      <td>...</td>\n",
       "      <td>0.167630</td>\n",
       "      <td>0.825688</td>\n",
       "      <td>0.426087</td>\n",
       "      <td>0.0625</td>\n",
       "      <td>0.0</td>\n",
       "      <td>0.708661</td>\n",
       "      <td>0.747475</td>\n",
       "      <td>0.732673</td>\n",
       "      <td>0.000</td>\n",
       "      <td>0.0</td>\n",
       "    </tr>\n",
       "  </tbody>\n",
       "</table>\n",
       "<p>5 rows × 21 columns</p>\n",
       "</div>"
      ],
      "text/plain": [
       "      baseline value  accelerations  fetal_movement  uterine_contractions  \\\n",
       "1542        0.716981       0.157895        0.000000              0.571429   \n",
       "753         0.452830       0.000000        0.002096              0.000000   \n",
       "454         0.509434       0.000000        0.006289              0.214286   \n",
       "534         0.584906       0.000000        0.000000              0.000000   \n",
       "599         0.792453       0.000000        0.008386              0.285714   \n",
       "\n",
       "      light_decelerations  severe_decelerations  prolongued_decelerations  \\\n",
       "1542                  0.0                   0.0                       0.0   \n",
       "753                   0.0                   0.0                       0.0   \n",
       "454                   0.0                   0.0                       0.0   \n",
       "534                   0.0                   0.0                       0.0   \n",
       "599                   0.0                   0.0                       0.0   \n",
       "\n",
       "      abnormal_short_term_variability  mean_value_of_short_term_variability  \\\n",
       "1542                         0.507042                              0.074627   \n",
       "753                          0.619718                              0.044776   \n",
       "454                          0.647887                              0.044776   \n",
       "534                          0.718310                              0.044776   \n",
       "599                          0.887324                              0.059701   \n",
       "\n",
       "      percentage_of_time_with_abnormal_long_term_variability  ...  \\\n",
       "1542                                           0.065934       ...   \n",
       "753                                            0.362637       ...   \n",
       "454                                            0.186813       ...   \n",
       "534                                            0.395604       ...   \n",
       "599                                            0.000000       ...   \n",
       "\n",
       "      histogram_width  histogram_min  histogram_max  \\\n",
       "1542         0.254335       0.642202       0.382609   \n",
       "753          0.092486       0.688073       0.182609   \n",
       "454          0.109827       0.688073       0.208696   \n",
       "534          0.537572       0.192661       0.382609   \n",
       "599          0.167630       0.825688       0.426087   \n",
       "\n",
       "      histogram_number_of_peaks  histogram_number_of_zeroes  histogram_mode  \\\n",
       "1542                     0.1875                         0.0        0.692913   \n",
       "753                      0.1250                         0.0        0.543307   \n",
       "454                      0.1250                         0.0        0.598425   \n",
       "534                      0.1875                         0.0        0.653543   \n",
       "599                      0.0625                         0.0        0.708661   \n",
       "\n",
       "      histogram_mean  histogram_median  histogram_variance  histogram_tendency  \n",
       "1542        0.737374          0.722772               0.012                 0.5  \n",
       "753         0.555556          0.544554               0.008                 0.0  \n",
       "454         0.606061          0.594059               0.004                 0.5  \n",
       "534         0.656566          0.653465               0.004                 1.0  \n",
       "599         0.747475          0.732673               0.000                 0.0  \n",
       "\n",
       "[5 rows x 21 columns]"
      ]
     },
     "execution_count": 15,
     "metadata": {},
     "output_type": "execute_result"
    }
   ],
   "source": [
    "scaled_X_test = pd.DataFrame(scaled_X_test, columns = X_test.columns, index=X_test.index)\n",
    "scaled_X_test.head()"
   ]
  },
  {
   "cell_type": "markdown",
   "id": "d2d95090",
   "metadata": {
    "papermill": {
     "duration": 0.016774,
     "end_time": "2023-11-13T14:16:11.301927",
     "exception": false,
     "start_time": "2023-11-13T14:16:11.285153",
     "status": "completed"
    },
    "tags": []
   },
   "source": [
    "## Modelling\n",
    "Modeling algorithms considered include:\n",
    "* Logistic Regression\n",
    "* Decision Tree\n",
    "* Random Forest\n",
    "* K-Nearest Neighbours (KNN)"
   ]
  },
  {
   "cell_type": "markdown",
   "id": "055bb56d",
   "metadata": {
    "papermill": {
     "duration": 0.01679,
     "end_time": "2023-11-13T14:16:11.435104",
     "exception": false,
     "start_time": "2023-11-13T14:16:11.418314",
     "status": "completed"
    },
    "tags": []
   },
   "source": [
    "### Logistic Regression"
   ]
  },
  {
   "cell_type": "code",
   "execution_count": 16,
   "id": "ab5127de",
   "metadata": {
    "execution": {
     "iopub.execute_input": "2023-11-13T14:16:11.471633Z",
     "iopub.status.busy": "2023-11-13T14:16:11.471215Z",
     "iopub.status.idle": "2023-11-13T14:16:11.543193Z",
     "shell.execute_reply": "2023-11-13T14:16:11.541852Z"
    },
    "papermill": {
     "duration": 0.093589,
     "end_time": "2023-11-13T14:16:11.545751",
     "exception": false,
     "start_time": "2023-11-13T14:16:11.452162",
     "status": "completed"
    },
    "tags": []
   },
   "outputs": [
    {
     "name": "stdout",
     "output_type": "stream",
     "text": [
      "Accuracy: 0.897\n",
      "Precision: 0.897\n",
      "Recall: 0.897\n",
      "F1-Score: 0.896\n"
     ]
    }
   ],
   "source": [
    "# Logistic regression \n",
    "log_reg = LogisticRegression(random_state=123)\n",
    "\n",
    "# Train the LR model on the train data\n",
    "log_reg.fit(scaled_X_train, y_train)\n",
    "\n",
    "# Predict on test data\n",
    "y_pred_lr = log_reg.predict(scaled_X_test)\n",
    "\n",
    "# Calculate evaluation metrics\n",
    "accuracy_lr = accuracy_score(y_test, y_pred_lr)\n",
    "precision_lr = precision_score(y_test, y_pred_lr, average='weighted')\n",
    "recall_lr = recall_score(y_test, y_pred_lr, average='weighted')\n",
    "f1_lr = f1_score(y_test, y_pred_lr, average='weighted')\n",
    "\n",
    "# Print results\n",
    "print(\"Accuracy:\", round(accuracy_lr, 3))\n",
    "print(\"Precision:\", round(precision_lr, 3))\n",
    "print(\"Recall:\", round(recall_lr, 3))\n",
    "print(\"F1-Score:\", round(f1_lr, 3))"
   ]
  },
  {
   "cell_type": "markdown",
   "id": "4ad7c8ec",
   "metadata": {
    "papermill": {
     "duration": 0.017908,
     "end_time": "2023-11-13T14:16:11.581087",
     "exception": false,
     "start_time": "2023-11-13T14:16:11.563179",
     "status": "completed"
    },
    "tags": []
   },
   "source": [
    "### Decision Tree"
   ]
  },
  {
   "cell_type": "code",
   "execution_count": 17,
   "id": "cdd45c13",
   "metadata": {
    "execution": {
     "iopub.execute_input": "2023-11-13T14:16:11.618354Z",
     "iopub.status.busy": "2023-11-13T14:16:11.617235Z",
     "iopub.status.idle": "2023-11-13T14:16:11.655861Z",
     "shell.execute_reply": "2023-11-13T14:16:11.654351Z"
    },
    "papermill": {
     "duration": 0.060389,
     "end_time": "2023-11-13T14:16:11.658765",
     "exception": false,
     "start_time": "2023-11-13T14:16:11.598376",
     "status": "completed"
    },
    "tags": []
   },
   "outputs": [
    {
     "name": "stdout",
     "output_type": "stream",
     "text": [
      "Accuracy: 0.888\n",
      "Precision: 0.901\n",
      "Recall: 0.888\n",
      "F1-Score: 0.892\n"
     ]
    }
   ],
   "source": [
    "# Decision tree \n",
    "d_tree = DecisionTreeClassifier(random_state=123)\n",
    "\n",
    "# Train the DT model on the train data\n",
    "d_tree.fit(scaled_X_train, y_train)\n",
    "\n",
    "# Predict on test data\n",
    "y_pred_dt = d_tree.predict(scaled_X_test)\n",
    "\n",
    "# Calculate evaluation metrics\n",
    "accuracy_dt = accuracy_score(y_test, y_pred_dt)\n",
    "precision_dt = precision_score(y_test, y_pred_dt, average='weighted')\n",
    "recall_dt = recall_score(y_test, y_pred_dt, average='weighted')\n",
    "f1_dt = f1_score(y_test, y_pred_dt, average='weighted')\n",
    "\n",
    "# Print results\n",
    "print(\"Accuracy:\", round(accuracy_dt, 3))\n",
    "print(\"Precision:\", round(precision_dt, 3))\n",
    "print(\"Recall:\", round(recall_dt, 3))\n",
    "print(\"F1-Score:\", round(f1_dt, 3))"
   ]
  },
  {
   "cell_type": "markdown",
   "id": "37160e41",
   "metadata": {
    "papermill": {
     "duration": 0.017695,
     "end_time": "2023-11-13T14:16:11.693808",
     "exception": false,
     "start_time": "2023-11-13T14:16:11.676113",
     "status": "completed"
    },
    "tags": []
   },
   "source": [
    "### Random Forest"
   ]
  },
  {
   "cell_type": "code",
   "execution_count": 18,
   "id": "0cd4d3e5",
   "metadata": {
    "execution": {
     "iopub.execute_input": "2023-11-13T14:16:11.730912Z",
     "iopub.status.busy": "2023-11-13T14:16:11.730175Z",
     "iopub.status.idle": "2023-11-13T14:16:12.190364Z",
     "shell.execute_reply": "2023-11-13T14:16:12.188940Z"
    },
    "papermill": {
     "duration": 0.481858,
     "end_time": "2023-11-13T14:16:12.193116",
     "exception": false,
     "start_time": "2023-11-13T14:16:11.711258",
     "status": "completed"
    },
    "tags": []
   },
   "outputs": [
    {
     "name": "stdout",
     "output_type": "stream",
     "text": [
      "Accuracy: 0.934\n",
      "Precision: 0.935\n",
      "Recall: 0.934\n",
      "F1-Score: 0.934\n"
     ]
    }
   ],
   "source": [
    "# Random forest\n",
    "r_forest = RandomForestClassifier(random_state=123)\n",
    "\n",
    "# Train the DT model on the train data\n",
    "r_forest.fit(scaled_X_train, y_train)\n",
    "\n",
    "# Predict on test data\n",
    "y_pred_rf = r_forest.predict(scaled_X_test)\n",
    "\n",
    "# Calculate evaluation metrics\n",
    "accuracy_rf = accuracy_score(y_test, y_pred_rf)\n",
    "precision_rf = precision_score(y_test, y_pred_rf, average='weighted')\n",
    "recall_rf = recall_score(y_test, y_pred_rf, average='weighted')\n",
    "f1_rf = f1_score(y_test, y_pred_rf, average='weighted')\n",
    "\n",
    "# Print results\n",
    "print(\"Accuracy:\", round(accuracy_rf, 3))\n",
    "print(\"Precision:\", round(precision_rf, 3))\n",
    "print(\"Recall:\", round(recall_rf, 3))\n",
    "print(\"F1-Score:\", round(f1_rf, 3))"
   ]
  },
  {
   "cell_type": "markdown",
   "id": "2ea15aa3",
   "metadata": {
    "papermill": {
     "duration": 0.017034,
     "end_time": "2023-11-13T14:16:12.228824",
     "exception": false,
     "start_time": "2023-11-13T14:16:12.211790",
     "status": "completed"
    },
    "tags": []
   },
   "source": [
    "### K-Nearest Neighbours (KNN)"
   ]
  },
  {
   "cell_type": "code",
   "execution_count": 19,
   "id": "e6514898",
   "metadata": {
    "execution": {
     "iopub.execute_input": "2023-11-13T14:16:12.266454Z",
     "iopub.status.busy": "2023-11-13T14:16:12.265745Z",
     "iopub.status.idle": "2023-11-13T14:16:12.405660Z",
     "shell.execute_reply": "2023-11-13T14:16:12.404321Z"
    },
    "papermill": {
     "duration": 0.162199,
     "end_time": "2023-11-13T14:16:12.408521",
     "exception": false,
     "start_time": "2023-11-13T14:16:12.246322",
     "status": "completed"
    },
    "tags": []
   },
   "outputs": [
    {
     "name": "stdout",
     "output_type": "stream",
     "text": [
      "Accuracy: 0.904\n",
      "Precision: 0.898\n",
      "Recall: 0.904\n",
      "F1-Score: 0.898\n"
     ]
    }
   ],
   "source": [
    "# K neighbors classifier\n",
    "knn = KNeighborsClassifier()\n",
    "\n",
    "# Train KNN on the train data\n",
    "knn.fit(scaled_X_train, y_train)\n",
    "\n",
    "# Predict on test data\n",
    "y_pred_knn = knn.predict(scaled_X_test)\n",
    "\n",
    "# Calculate evaluation metrics\n",
    "accuracy_knn = accuracy_score(y_test, y_pred_knn)\n",
    "precision_knn = precision_score(y_test, y_pred_knn, average='weighted')\n",
    "recall_knn = recall_score(y_test, y_pred_knn, average='weighted')\n",
    "f1_knn = f1_score(y_test, y_pred_knn, average='weighted')\n",
    "\n",
    "# Print results\n",
    "print(\"Accuracy:\", round(accuracy_knn, 3))\n",
    "print(\"Precision:\", round(precision_knn, 3))\n",
    "print(\"Recall:\", round(recall_knn, 3))\n",
    "print(\"F1-Score:\", round(f1_knn, 3))"
   ]
  },
  {
   "cell_type": "markdown",
   "id": "48cc0b49",
   "metadata": {
    "papermill": {
     "duration": 0.017377,
     "end_time": "2023-11-13T14:16:14.223682",
     "exception": false,
     "start_time": "2023-11-13T14:16:14.206305",
     "status": "completed"
    },
    "tags": []
   },
   "source": [
    "## Evaluation"
   ]
  },
  {
   "cell_type": "code",
   "execution_count": 21,
   "id": "75931d6f",
   "metadata": {
    "execution": {
     "iopub.execute_input": "2023-11-13T14:16:14.261989Z",
     "iopub.status.busy": "2023-11-13T14:16:14.261130Z",
     "iopub.status.idle": "2023-11-13T14:16:14.281083Z",
     "shell.execute_reply": "2023-11-13T14:16:14.279850Z"
    },
    "papermill": {
     "duration": 0.042232,
     "end_time": "2023-11-13T14:16:14.283591",
     "exception": false,
     "start_time": "2023-11-13T14:16:14.241359",
     "status": "completed"
    },
    "tags": []
   },
   "outputs": [
    {
     "data": {
      "text/html": [
       "<div>\n",
       "<style scoped>\n",
       "    .dataframe tbody tr th:only-of-type {\n",
       "        vertical-align: middle;\n",
       "    }\n",
       "\n",
       "    .dataframe tbody tr th {\n",
       "        vertical-align: top;\n",
       "    }\n",
       "\n",
       "    .dataframe thead th {\n",
       "        text-align: right;\n",
       "    }\n",
       "</style>\n",
       "<table border=\"1\" class=\"dataframe\">\n",
       "  <thead>\n",
       "    <tr style=\"text-align: right;\">\n",
       "      <th></th>\n",
       "      <th>Model</th>\n",
       "      <th>Accuracy</th>\n",
       "      <th>Precision</th>\n",
       "      <th>Recall</th>\n",
       "      <th>F1_Score</th>\n",
       "    </tr>\n",
       "  </thead>\n",
       "  <tbody>\n",
       "    <tr>\n",
       "      <th>0</th>\n",
       "      <td>Logistic Regression</td>\n",
       "      <td>0.897</td>\n",
       "      <td>0.897</td>\n",
       "      <td>0.897</td>\n",
       "      <td>0.896</td>\n",
       "    </tr>\n",
       "    <tr>\n",
       "      <th>1</th>\n",
       "      <td>Decision Tree</td>\n",
       "      <td>0.888</td>\n",
       "      <td>0.901</td>\n",
       "      <td>0.888</td>\n",
       "      <td>0.892</td>\n",
       "    </tr>\n",
       "    <tr>\n",
       "      <th>2</th>\n",
       "      <td>Random Forest</td>\n",
       "      <td>0.934</td>\n",
       "      <td>0.935</td>\n",
       "      <td>0.934</td>\n",
       "      <td>0.934</td>\n",
       "    </tr>\n",
       "    <tr>\n",
       "      <th>3</th>\n",
       "      <td>KNN</td>\n",
       "      <td>0.904</td>\n",
       "      <td>0.898</td>\n",
       "      <td>0.904</td>\n",
       "      <td>0.898</td>\n",
       "    </tr>\n",
       "  </tbody>\n",
       "</table>\n",
       "</div>"
      ],
      "text/plain": [
       "                 Model  Accuracy  Precision  Recall  F1_Score\n",
       "0  Logistic Regression     0.897      0.897   0.897     0.896\n",
       "1        Decision Tree     0.888      0.901   0.888     0.892\n",
       "2        Random Forest     0.934      0.935   0.934     0.934\n",
       "3                  KNN     0.904      0.898   0.904     0.898"
      ]
     },
     "execution_count": 21,
     "metadata": {},
     "output_type": "execute_result"
    }
   ],
   "source": [
    "# Define the models and their corresponding evaluation metrics\n",
    "models = [\"Logistic Regression\", \"Decision Tree\", \"Random Forest\", \"KNN\" ]\n",
    "accuracy = [ accuracy_lr, accuracy_dt, accuracy_rf, accuracy_knn]\n",
    "precision = [ precision_lr, precision_dt, precision_rf, precision_knn]\n",
    "recall = [ recall_lr, recall_dt, recall_rf, recall_knn]\n",
    "f1_score = [ f1_lr, f1_dt, f1_rf, f1_knn]\n",
    "\n",
    "# Create summary table in df\n",
    "summary_table = pd.DataFrame({\n",
    "    \"Model\": models,\n",
    "    \"Accuracy\": accuracy,\n",
    "    \"Precision\": precision,\n",
    "    \"Recall\": recall,\n",
    "    \"F1_Score\": f1_score\n",
    "})\n",
    "summary_table.round(3)"
   ]
  },
  {
   "cell_type": "code",
   "execution_count": 22,
   "id": "0cc483bc",
   "metadata": {
    "execution": {
     "iopub.execute_input": "2023-11-13T14:16:14.321725Z",
     "iopub.status.busy": "2023-11-13T14:16:14.320870Z",
     "iopub.status.idle": "2023-11-13T14:16:14.706443Z",
     "shell.execute_reply": "2023-11-13T14:16:14.705229Z"
    },
    "papermill": {
     "duration": 0.407603,
     "end_time": "2023-11-13T14:16:14.709032",
     "exception": false,
     "start_time": "2023-11-13T14:16:14.301429",
     "status": "completed"
    },
    "tags": []
   },
   "outputs": [
    {
     "data": {
      "image/png": "[encoded data removed]",
      "text/plain": [
       "<Figure size 640x480 with 2 Axes>"
      ]
     },
     "metadata": {},
     "output_type": "display_data"
    }
   ],
   "source": [
    "# Create summary table in heatmap\n",
    "sns.heatmap(data=summary_table.set_index('Model').iloc[:, :], annot=True, fmt=\".3f\", cmap='Pastel2')\n",
    "plt.title(\"Model Evaluation Results\")\n",
    "plt.show()"
   ]
  },
  {
   "cell_type": "markdown",
   "id": "6425b1f4",
   "metadata": {
    "papermill": {
     "duration": 0.018537,
     "end_time": "2023-11-13T14:16:14.746401",
     "exception": false,
     "start_time": "2023-11-13T14:16:14.727864",
     "status": "completed"
    },
    "tags": []
   },
   "source": [
    "* As a result, Gradient Boosting Classifier has the best performance among the 7 model, follow by Random Forest Classifier. "
   ]
  }
 ],
 "metadata": {
  "kernelspec": {
   "display_name": "Python 3 (ipykernel)",
   "language": "python",
   "name": "python3"
  },
  "language_info": {
   "codemirror_mode": {
    "name": "ipython",
    "version": 3
   },
   "file_extension": ".py",
   "mimetype": "text/x-python",
   "name": "python",
   "nbconvert_exporter": "python",
   "pygments_lexer": "ipython3",
   "version": "3.11.5"
  },
  "papermill": {
   "default_parameters": {},
   "duration": 16.125733,
   "end_time": "2023-11-13T14:16:15.488117",
   "environment_variables": {},
   "exception": null,
   "input_path": "__notebook__.ipynb",
   "output_path": "__notebook__.ipynb",
   "parameters": {},
   "start_time": "2023-11-13T14:15:59.362384",
   "version": "2.4.0"
  }
 },
 "nbformat": 4,
 "nbformat_minor": 5
}
